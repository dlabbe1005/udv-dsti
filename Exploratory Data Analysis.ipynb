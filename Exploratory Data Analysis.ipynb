{
  "cells": [
    {
      "metadata": {
        "trusted": true
      },
      "cell_type": "code",
      "source": "# import the packages\nimport pandas as pd\nimport numpy as np\nimport matplotlib.pyplot as plt",
      "execution_count": 1,
      "outputs": []
    },
    {
      "metadata": {
        "trusted": true
      },
      "cell_type": "code",
      "source": "# read the files\ndf_co2 = pd.read_csv('data/co2_emissions_tonnes_per_person.csv')\ndf_electricity = pd.read_csv('data/electricity_generation_total.csv')\ndf_gdp = pd.read_csv('data/gdp_total_yearly_growth.csv')\ndf_income = pd.read_csv('data/income_per_person_gdppercapita_ppp_inflation_adjusted.csv')\ndf_oil = pd.read_csv('data/oil_consumption_total.csv')\ndf_population = pd.read_csv('data/population_growth_annual_percent.csv')",
      "execution_count": 2,
      "outputs": []
    },
    {
      "metadata": {
        "trusted": true
      },
      "cell_type": "code",
      "source": "# unpivot the columns from the source\ndf_co2 = df_co2.melt(id_vars=['country'])\ndf_co2.columns = ['country', 'year', 'co2']\n\ndf_electricity = df_electricity.melt(id_vars=['country'])\ndf_electricity.columns = ['country', 'year', 'electricity']\n\ndf_gdp = df_gdp.melt(id_vars=['country'])\ndf_gdp.columns = ['country', 'year', 'gdp']\n\ndf_income = df_income.melt(id_vars=['country'])\ndf_income.columns = ['country', 'year', 'income']\n\ndf_oil = df_oil.melt(id_vars=['country'])\ndf_oil.columns = ['country', 'year', 'oil']\n\ndf_population = df_population.melt(id_vars=['country'])\ndf_population.columns = ['country', 'year', 'population']",
      "execution_count": 3,
      "outputs": []
    },
    {
      "metadata": {
        "trusted": true
      },
      "cell_type": "code",
      "source": "# sizes\nprint('CO2 years: {}'.format(len(df_co2.year.unique())))\nprint('Electricity years: {}'.format(len(df_electricity.year.unique())))\nprint('GDP years: {}'.format(len(df_gdp.year.unique())))\nprint('Income years: {}'.format(len(df_income.year.unique())))\nprint('Oil years: {}'.format(len(df_oil.year.unique())))\nprint('Population years: {}'.format(len(df_population.year.unique())))",
      "execution_count": 4,
      "outputs": [
        {
          "output_type": "stream",
          "text": "CO2 years: 215\nElectricity years: 32\nGDP years: 213\nIncome years: 241\nOil years: 52\nPopulation years: 58\n",
          "name": "stdout"
        }
      ]
    },
    {
      "metadata": {
        "trusted": true
      },
      "cell_type": "code",
      "source": "# sizes\nprint('CO2 countries: {}'.format(len(df_co2.country.unique())))\nprint('Electricity countries: {}'.format(len(df_electricity.country.unique())))\nprint('GDP countries: {}'.format(len(df_gdp.country.unique())))\nprint('Income countries: {}'.format(len(df_income.country.unique())))\nprint('Oil countries: {}'.format(len(df_oil.country.unique())))\nprint('Population countries: {}'.format(len(df_population.country.unique())))",
      "execution_count": 5,
      "outputs": [
        {
          "output_type": "stream",
          "text": "CO2 countries: 192\nElectricity countries: 65\nGDP countries: 194\nIncome countries: 193\nOil countries: 65\nPopulation countries: 194\n",
          "name": "stdout"
        }
      ]
    },
    {
      "metadata": {
        "trusted": true
      },
      "cell_type": "code",
      "source": "# create an \"empty\" data frame for the unique combination of year and country \nyear = np.unique(np.concatenate([df_co2.year.unique() , df_electricity.year.unique(), df_gdp.year.unique(), df_income.year.unique(), df_oil.year.unique(), df_population.year.unique()]))\ncountry = np.unique(np.concatenate([df_co2.country.unique() , df_electricity.country.unique(), df_gdp.country.unique(), df_income.country.unique(), df_oil.country.unique(), df_population.country.unique()]))\n\ncol_year = []\ncol_country = []\nfor y in year:\n    for c in country:\n        col_year.append(y)\n        col_country.append(c)\n        \ndf = pd.DataFrame({'year': col_year, 'country': col_country})",
      "execution_count": 6,
      "outputs": []
    },
    {
      "metadata": {
        "trusted": true
      },
      "cell_type": "code",
      "source": "# create a single data frame\ndf = pd.merge(left = df, right = df_co2, how = 'left', on = ['year', 'country'])\ndf = pd.merge(left = df, right = df_electricity, how = 'left', on = ['year', 'country'])\ndf = pd.merge(left = df, right = df_gdp, how = 'left', on = ['year', 'country'])\ndf = pd.merge(left = df, right = df_income, how = 'left', on = ['year', 'country'])\ndf = pd.merge(left = df, right = df_oil, how = 'left', on = ['year', 'country'])\ndf = pd.merge(left = df, right = df_population, how = 'left', on = ['year', 'country'])",
      "execution_count": 7,
      "outputs": []
    },
    {
      "metadata": {
        "trusted": true
      },
      "cell_type": "code",
      "source": "# investigate the correlation between co2 and electricity\ndf[(~df.co2.isnull())&(~df.electricity.isnull())][['co2', 'electricity']].corr()",
      "execution_count": 8,
      "outputs": [
        {
          "output_type": "execute_result",
          "execution_count": 8,
          "data": {
            "text/html": "<div>\n<style scoped>\n    .dataframe tbody tr th:only-of-type {\n        vertical-align: middle;\n    }\n\n    .dataframe tbody tr th {\n        vertical-align: top;\n    }\n\n    .dataframe thead th {\n        text-align: right;\n    }\n</style>\n<table border=\"1\" class=\"dataframe\">\n  <thead>\n    <tr style=\"text-align: right;\">\n      <th></th>\n      <th>co2</th>\n      <th>electricity</th>\n    </tr>\n  </thead>\n  <tbody>\n    <tr>\n      <th>co2</th>\n      <td>1.000000</td>\n      <td>0.114495</td>\n    </tr>\n    <tr>\n      <th>electricity</th>\n      <td>0.114495</td>\n      <td>1.000000</td>\n    </tr>\n  </tbody>\n</table>\n</div>",
            "text/plain": "                  co2  electricity\nco2          1.000000     0.114495\nelectricity  0.114495     1.000000"
          },
          "metadata": {}
        }
      ]
    },
    {
      "metadata": {
        "trusted": true
      },
      "cell_type": "code",
      "source": "# investigate the correlation between co2 and gdp\ndf[(~df.co2.isnull())&(~df.gdp.isnull())][['co2', 'gdp']].corr()",
      "execution_count": 9,
      "outputs": [
        {
          "output_type": "execute_result",
          "execution_count": 9,
          "data": {
            "text/html": "<div>\n<style scoped>\n    .dataframe tbody tr th:only-of-type {\n        vertical-align: middle;\n    }\n\n    .dataframe tbody tr th {\n        vertical-align: top;\n    }\n\n    .dataframe thead th {\n        text-align: right;\n    }\n</style>\n<table border=\"1\" class=\"dataframe\">\n  <thead>\n    <tr style=\"text-align: right;\">\n      <th></th>\n      <th>co2</th>\n      <th>gdp</th>\n    </tr>\n  </thead>\n  <tbody>\n    <tr>\n      <th>co2</th>\n      <td>1.000000</td>\n      <td>0.096194</td>\n    </tr>\n    <tr>\n      <th>gdp</th>\n      <td>0.096194</td>\n      <td>1.000000</td>\n    </tr>\n  </tbody>\n</table>\n</div>",
            "text/plain": "          co2       gdp\nco2  1.000000  0.096194\ngdp  0.096194  1.000000"
          },
          "metadata": {}
        }
      ]
    },
    {
      "metadata": {
        "trusted": true
      },
      "cell_type": "code",
      "source": "# investigate the correlation between co2 and income\ndf[(~df.co2.isnull())&(~df.income.isnull())][['co2', 'income']].corr()",
      "execution_count": 10,
      "outputs": [
        {
          "output_type": "execute_result",
          "execution_count": 10,
          "data": {
            "text/html": "<div>\n<style scoped>\n    .dataframe tbody tr th:only-of-type {\n        vertical-align: middle;\n    }\n\n    .dataframe tbody tr th {\n        vertical-align: top;\n    }\n\n    .dataframe thead th {\n        text-align: right;\n    }\n</style>\n<table border=\"1\" class=\"dataframe\">\n  <thead>\n    <tr style=\"text-align: right;\">\n      <th></th>\n      <th>co2</th>\n      <th>income</th>\n    </tr>\n  </thead>\n  <tbody>\n    <tr>\n      <th>co2</th>\n      <td>1.000000</td>\n      <td>0.709263</td>\n    </tr>\n    <tr>\n      <th>income</th>\n      <td>0.709263</td>\n      <td>1.000000</td>\n    </tr>\n  </tbody>\n</table>\n</div>",
            "text/plain": "             co2    income\nco2     1.000000  0.709263\nincome  0.709263  1.000000"
          },
          "metadata": {}
        }
      ]
    },
    {
      "metadata": {
        "trusted": true
      },
      "cell_type": "code",
      "source": "# investigate the correlation between co2 and oil consumption\ndf[(~df.co2.isnull())&(~df.oil.isnull())][['co2', 'oil']].corr()",
      "execution_count": 11,
      "outputs": [
        {
          "output_type": "execute_result",
          "execution_count": 11,
          "data": {
            "text/html": "<div>\n<style scoped>\n    .dataframe tbody tr th:only-of-type {\n        vertical-align: middle;\n    }\n\n    .dataframe tbody tr th {\n        vertical-align: top;\n    }\n\n    .dataframe thead th {\n        text-align: right;\n    }\n</style>\n<table border=\"1\" class=\"dataframe\">\n  <thead>\n    <tr style=\"text-align: right;\">\n      <th></th>\n      <th>co2</th>\n      <th>oil</th>\n    </tr>\n  </thead>\n  <tbody>\n    <tr>\n      <th>co2</th>\n      <td>1.000000</td>\n      <td>0.127614</td>\n    </tr>\n    <tr>\n      <th>oil</th>\n      <td>0.127614</td>\n      <td>1.000000</td>\n    </tr>\n  </tbody>\n</table>\n</div>",
            "text/plain": "          co2       oil\nco2  1.000000  0.127614\noil  0.127614  1.000000"
          },
          "metadata": {}
        }
      ]
    },
    {
      "metadata": {
        "trusted": true
      },
      "cell_type": "code",
      "source": "# investigate the correlation between co2 and population\ndf[(~df.co2.isnull())&(~df.population.isnull())][['co2', 'population']].corr()",
      "execution_count": 12,
      "outputs": [
        {
          "output_type": "execute_result",
          "execution_count": 12,
          "data": {
            "text/html": "<div>\n<style scoped>\n    .dataframe tbody tr th:only-of-type {\n        vertical-align: middle;\n    }\n\n    .dataframe tbody tr th {\n        vertical-align: top;\n    }\n\n    .dataframe thead th {\n        text-align: right;\n    }\n</style>\n<table border=\"1\" class=\"dataframe\">\n  <thead>\n    <tr style=\"text-align: right;\">\n      <th></th>\n      <th>co2</th>\n      <th>population</th>\n    </tr>\n  </thead>\n  <tbody>\n    <tr>\n      <th>co2</th>\n      <td>1.000000</td>\n      <td>0.154608</td>\n    </tr>\n    <tr>\n      <th>population</th>\n      <td>0.154608</td>\n      <td>1.000000</td>\n    </tr>\n  </tbody>\n</table>\n</div>",
            "text/plain": "                 co2  population\nco2         1.000000    0.154608\npopulation  0.154608    1.000000"
          },
          "metadata": {}
        }
      ]
    },
    {
      "metadata": {
        "trusted": true
      },
      "cell_type": "code",
      "source": "# crete a dataframe just with the income and co2\ndf_corr = df[(~df.co2.isnull())&(~df.income.isnull())][['co2', 'income']]",
      "execution_count": 13,
      "outputs": []
    },
    {
      "metadata": {
        "trusted": true
      },
      "cell_type": "code",
      "source": "# visually assess the correlation\nplt.scatter(df_corr['co2'], df_corr['income'])\nplt.show()",
      "execution_count": 14,
      "outputs": [
        {
          "output_type": "display_data",
          "data": {
            "image/png": "[encoded data removed]",
            "text/plain": "<Figure size 432x288 with 1 Axes>"
          },
          "metadata": {
            "needs_background": "light"
          }
        }
      ]
    },
    {
      "metadata": {
        "trusted": true
      },
      "cell_type": "code",
      "source": "# same plot without the outlier\ndf_corr = df_corr[df_corr.co2 < 200]\nplt.scatter(df_corr['co2'], df_corr['income'])\nplt.show()",
      "execution_count": 15,
      "outputs": [
        {
          "output_type": "display_data",
          "data": {
            "image/png": "[encoded data removed]",
            "text/plain": "<Figure size 432x288 with 1 Axes>"
          },
          "metadata": {
            "needs_background": "light"
          }
        }
      ]
    },
    {
      "metadata": {
        "trusted": true
      },
      "cell_type": "code",
      "source": "",
      "execution_count": null,
      "outputs": []
    }
  ],
  "metadata": {
    "kernelspec": {
      "name": "python36",
      "display_name": "Python 3.6",
      "language": "python"
    },
    "language_info": {
      "mimetype": "text/x-python",
      "nbconvert_exporter": "python",
      "name": "python",
      "pygments_lexer": "ipython3",
      "version": "3.6.6",
      "file_extension": ".py",
      "codemirror_mode": {
        "version": 3,
        "name": "ipython"
      }
    }
  },
  "nbformat": 4,
  "nbformat_minor": 2
}